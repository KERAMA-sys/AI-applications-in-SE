{
  "cells": [
    {
      "cell_type": "markdown",
      "metadata": {
        "id": "QxJwRpm8Lv8f"
      },
      "source": [
        "# **Task 2: Automated Testing with AI**\n",
        "##📌 **Objective**\n",
        "The goal of this task was to automate a test case for a login page, validate its behavior using valid and invalid credentials, and explore how AI-enhanced tools improve test reliability and coverage in comparison to manual testing.\n",
        "\n",
        "##🧰 **Tools & Technologies Used**\n",
        "* Selenium IDE (Record-and-playback testing tool)\n",
        "* Google Chrome Browser\n",
        "* Public Demo Login Page\n",
        "https://practicetestautomation.com/practice-test-login/\n",
        "\n",
        "**AI Concepts Explored:**\n",
        "* Self-healing locators (AI-powered plugins—optional)\n",
        "* Visual validation (optional via Applitools, not used in this test)\n",
        "\n",
        "## 🔬 **Test Cases Designed**\n",
        "✅ **1. Valid Login Test**\n",
        "\n",
        "**Input:**\n",
        "-  Username = student\n",
        "-  Password = Password123\n",
        "\n",
        "**Expected Result:**\n",
        "- Redirect to dashboard or presence of logout button\n",
        "- **Assertion Used:** assert element present, assert text\n",
        "\n",
        "❌**2. Invalid Login Test**\n",
        "\n",
        "**Input:**\n",
        "- Username = wronguser\n",
        "- Password = wrongpass\n",
        "\n",
        "**Expected Result:**\n",
        "- Error message displayed (Invalid credentials!)\n",
        "- **Assertion Used:** assert text, assert visible on id=error\n",
        "\n",
        "📷 Snapshots of Test Results\n",
        "\n",
        "Figure 1: Successful login test with dashboard assertion\n",
        "![Valid Test](images/valid.PNG)\n",
        "Figure 2: Invalid login showing error message\n",
        "![invalid Test](images/invalid.PNG)\n",
        "\n",
        "\n"
      ]
    }
  ],
  "metadata": {
    "colab": {
      "authorship_tag": "ABX9TyMdQrv1zNs92hniXkNjTkZi",
      "provenance": []
    },
    "kernelspec": {
      "display_name": "Python 3",
      "name": "python3"
    },
    "language_info": {
      "name": "python"
    }
  },
  "nbformat": 4,
  "nbformat_minor": 0
}
